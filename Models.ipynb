{
 "cells": [
  {
   "cell_type": "code",
   "id": "initial_id",
   "metadata": {
    "collapsed": true,
    "ExecuteTime": {
     "end_time": "2025-05-18T02:45:07.737923Z",
     "start_time": "2025-05-18T02:45:07.734818Z"
    }
   },
   "source": [
    "from langchain_core.messages import SystemMessage, HumanMessage\n",
    "from langchain_core.prompts import ChatPromptTemplate, HumanMessagePromptTemplate, SystemMessagePromptTemplate\n",
    "\n",
    "chat_template = ChatPromptTemplate.from_messages(\n",
    "    [\n",
    "        # (\"system\", \"You are a helpful assistant. Your name is {name}.\"),\n",
    "        # (\"human\", \"{user_input}\")\n",
    "        SystemMessagePromptTemplate.from_template(\"You are a helpful assistant. Your name is {name}.\"),\n",
    "        HumanMessagePromptTemplate.from_template(\"{user_input}\")\n",
    "    ]\n",
    ")\n",
    "\n",
    "messages = chat_template.format_messages(name=\"공주대처럼 AI\", user_input=\"안녕! 너는 누구야?\")\n",
    "print(messages)"
   ],
   "outputs": [
    {
     "name": "stdout",
     "output_type": "stream",
     "text": [
      "[SystemMessage(content='You are a helpful assistant. Your name is 공주대처럼 AI.', additional_kwargs={}, response_metadata={}), HumanMessage(content='안녕! 너는 누구야?', additional_kwargs={}, response_metadata={})]\n"
     ]
    }
   ],
   "execution_count": 10
  },
  {
   "metadata": {
    "ExecuteTime": {
     "end_time": "2025-05-18T13:44:10.478036Z",
     "start_time": "2025-05-18T13:44:05.582032Z"
    }
   },
   "cell_type": "code",
   "source": [
    "from langchain_openai import ChatOpenAI\n",
    "\n",
    "chatgpt_temp0_1 = ChatOpenAI(model=\"gpt-4.1-nano\", temperature=0)\n",
    "chatgpt_temp0_2 = ChatOpenAI(model=\"gpt-4.1-nano\", temperature=0)\n",
    "\n",
    "chatgpt_temp1_1 = ChatOpenAI(model=\"gpt-4.1-nano\", temperature=1)\n",
    "chatgpt_temp1_2 = ChatOpenAI(model=\"gpt-4.1-nano\", temperature=1)\n",
    "\n",
    "model_list = [chatgpt_temp0_1, chatgpt_temp0_2, chatgpt_temp1_1, chatgpt_temp1_2]\n",
    "\n",
    "for model in model_list:\n",
    "    answer = model.invoke(\"왜 파이썬을 씀?\", max_tokens=128)\n",
    "    print(\"-\" * 100)\n",
    "    print(\">>>\", answer.content)\n"
   ],
   "id": "d42136d5de0e4149",
   "outputs": [
    {
     "name": "stdout",
     "output_type": "stream",
     "text": [
      "----------------------------------------------------------------------------------------------------\n",
      ">>> 파이썬을 사용하는 이유는 다양하지만, 대표적인 이유는 다음과 같습니다:\n",
      "\n",
      "1. **쉬운 문법과 가독성**: 파이썬은 간결하고 직관적인 문법을 가지고 있어 초보자도 쉽게 배울 수 있습니다. 코드가 읽기 쉽고 이해하기 쉬워 유지보수도 용이합니다.\n",
      "\n",
      "2. **다양한 용도**: 웹 개발, 데이터 분석, 인공지능, 머신러닝, 자동화, 과학 계산, 게임 개발 등 여러 분야에서 활용됩니다. 하나의 언어로 여러 작업을 수행할 수 있습니다\n",
      "----------------------------------------------------------------------------------------------------\n",
      ">>> 파이썬을 사용하는 이유는 다양하지만, 대표적인 이유는 다음과 같습니다:\n",
      "\n",
      "1. **쉬운 문법과 가독성**: 파이썬은 간결하고 직관적인 문법을 가지고 있어 초보자도 쉽게 배울 수 있습니다. 코드가 읽기 쉽고 이해하기 쉬워 유지보수도 용이합니다.\n",
      "\n",
      "2. **다양한 용도**: 웹 개발, 데이터 분석, 인공지능, 머신러닝, 자동화, 과학 계산 등 여러 분야에서 활용할 수 있습니다. 하나의 언어로 여러 작업을 수행할 수 있습니다.\n",
      "\n",
      "\n",
      "----------------------------------------------------------------------------------------------------\n",
      ">>> 파이썬을 사용하는 이유는 다양하지만, 주로 다음과 같은 장점들이 있기 때문입니다:\n",
      "\n",
      "1. **쉬운 문법과 배우기 쉬움**: 파이썬은 읽기 쉽고 간결한 문법을 가지고 있어 초보자도 빠르게 배울 수 있습니다.\n",
      "2. **광범위한 라이브러리와 프레임워크**: 데이터 분석(예: Pandas, NumPy), 머신러닝(예: TensorFlow, scikit-learn), 웹 개발(예: Django, Flask), 자동화 등 다양한 분야에 걸쳐 풍부한\n",
      "----------------------------------------------------------------------------------------------------\n",
      ">>> 파이썬(Python)을 사용하는 이유는 다양하며, 대표적인 장점들은 다음과 같습니다:\n",
      "\n",
      "1. 쉬운 문법과 간결한 코드: 파이썬은 읽기 쉽고 쓰기 간편한 문법을 가지고 있어 초보자도 빠르게 배울 수 있습니다.\n",
      "2. 다양한 라이브러리와 프레임워크: 데이터 분석, 인공지능, 웹 개발, 자동화 등 여러 분야에 걸쳐 풍부한 라이브러리와 프레임워크가 존재하여 개발 속도를 높일 수 있습니다.\n",
      "3. 다목적 사용 가능: 한 번\n"
     ]
    }
   ],
   "execution_count": 4
  },
  {
   "metadata": {
    "ExecuteTime": {
     "end_time": "2025-05-18T13:44:21.233919Z",
     "start_time": "2025-05-18T13:44:20.410222Z"
    }
   },
   "cell_type": "code",
   "source": [
    "from langchain_openai import ChatOpenAI\n",
    "\n",
    "chat = ChatOpenAI(model=\"gpt-4.1-nano\", temperature=0)\n",
    "for chunk in chat.stream(\"달에 관한 짧은 시를 써줘\"):\n",
    "    print(chunk.content, end=\"\", flush=True)"
   ],
   "id": "b393138382f46745",
   "outputs": [
    {
     "name": "stdout",
     "output_type": "stream",
     "text": [
      "은빛 달빛 아래 조용히 웃는 달  \n",
      "밤하늘의 작은 꿈, 영원한 친구  \n",
      "조용히 속삭이는 별들의 이야기  \n",
      "달은 언제나 마음속에 빛나는 희망"
     ]
    }
   ],
   "execution_count": 5
  },
  {
   "metadata": {
    "ExecuteTime": {
     "end_time": "2025-05-18T13:47:41.565208Z",
     "start_time": "2025-05-18T13:47:41.544977Z"
    }
   },
   "cell_type": "code",
   "source": [
    "from langchain.globals import set_llm_cache\n",
    "from langchain_openai import ChatOpenAI\n",
    "\n",
    "chat = ChatOpenAI(model=\"gpt-4.1-nano\", temperature=0)\n",
    "\n",
    "%%time\n",
    "from langchain.cache import InMemoryCache\n",
    "\n",
    "set_llm_cache(InMemoryCache())\n",
    "\n",
    "chat.invoke(\"일반 상대성 이론을 한마디로 설명해줘\")"
   ],
   "id": "e19a3623c0fd718",
   "outputs": [
    {
     "name": "stderr",
     "output_type": "stream",
     "text": [
      "UsageError: Line magic function `%%time` not found.\n"
     ]
    }
   ],
   "execution_count": 11
  },
  {
   "metadata": {
    "ExecuteTime": {
     "end_time": "2025-05-18T14:48:13.937325Z",
     "start_time": "2025-05-18T14:48:11.119564Z"
    }
   },
   "cell_type": "code",
   "source": [
    "from langchain_openai import ChatOpenAI\n",
    "from langchain.prompts import HumanMessagePromptTemplate, ChatPromptTemplate\n",
    "from langchain_core.messages import SystemMessage\n",
    "from dotenv import load_dotenv\n",
    "\n",
    "load_dotenv()\n",
    "\n",
    "chat = ChatOpenAI(model=\"gpt-4.1-nano\", temperature=0)\n",
    "chat_template = ChatPromptTemplate.from_messages(\n",
    "    [\n",
    "        SystemMessage(content=(\n",
    "            \"당신은 공부 계획을 세워주는 스터디 플래너 머신입니다.\"\n",
    "            \"사용자의 공부 주제를 입력받으면 이를 학습하기 위한 공부 계획을 간단히 작성합니다.\"\n",
    "        )),\n",
    "        HumanMessagePromptTemplate.from_template(\"{user_input}\")\n",
    "    ]\n",
    ")\n",
    "\n",
    "messages = chat_template.format_messages(user_input=\"LLM에 대해 공부하고 싶어\")\n",
    "\n",
    "for chunk in chat.stream(messages):\n",
    "    print(chunk.content, end=\"\", flush=True)"
   ],
   "id": "81bb2fc3cf188046",
   "outputs": [
    {
     "name": "stdout",
     "output_type": "stream",
     "text": [
      "LLM(대형 언어 모델)에 대해 공부하는 계획을 세워드리겠습니다.\n",
      "\n",
      "1. 기초 개념 이해 (1주차)\n",
      "   - LLM이란 무엇인가?\n",
      "   - 자연어 처리(NLP) 기본 개념\n",
      "   - 딥러닝과 신경망 기초\n",
      "   - 주요 LLM 예시 (GPT, BERT 등)\n",
      "\n",
      "2. 기술 및 구조 학습 (2-3주차)\n",
      "   - Transformer 아키텍처 이해\n",
      "   - 사전 학습(pre-training)과 미세 조정(fine-tuning)\n",
      "   - 언어 모델의 학습 방법과 데이터셋\n",
      "\n",
      "3. 실습 및 활용 (4-5주차)\n",
      "   - Hugging Face 라이브러리 활용법\n",
      "   - 간단한 LLM 모델 구축 및 실험\n",
      "   - 다양한 NLP 태스크 적용 (질문응답, 텍스트 생성 등)\n",
      "\n",
      "4. 최신 연구 동향 및 윤리적 고려 (6주차)\n",
      "   - 최신 논문 읽기 (arXiv, ACL 등)\n",
      "   - LLM의 한계와 윤리적 문제\n",
      "   - 미래 전망과 발전 방향\n",
      "\n",
      "매주 일정에 맞춰 공부 자료와 실습 과제를 진행하며, 이해도를 체크하는 복습 시간을 가지세요."
     ]
    }
   ],
   "execution_count": 8
  }
 ],
 "metadata": {
  "kernelspec": {
   "display_name": "Python 3",
   "language": "python",
   "name": "python3"
  },
  "language_info": {
   "codemirror_mode": {
    "name": "ipython",
    "version": 2
   },
   "file_extension": ".py",
   "mimetype": "text/x-python",
   "name": "python",
   "nbconvert_exporter": "python",
   "pygments_lexer": "ipython2",
   "version": "2.7.6"
  }
 },
 "nbformat": 4,
 "nbformat_minor": 5
}
