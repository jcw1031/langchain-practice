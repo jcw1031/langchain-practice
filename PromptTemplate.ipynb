{
 "cells": [
  {
   "cell_type": "code",
   "id": "initial_id",
   "metadata": {
    "collapsed": true,
    "ExecuteTime": {
     "end_time": "2025-05-22T12:09:04.393025Z",
     "start_time": "2025-05-22T12:09:04.386933Z"
    }
   },
   "source": [
    "from langchain.prompts import PromptTemplate\n",
    "from langchain_openai import ChatOpenAI\n",
    "from langchain.schema import HumanMessage, SystemMessage, AIMessage\n",
    "from langchain.chains import LLMChain\n",
    "import dotenv\n",
    "\n",
    "dotenv.load_dotenv()\n",
    "\n",
    "prompt = (\n",
    "    PromptTemplate.from_template(\"\"\"\n",
    "        너는 요리사야. 내가 가진 재료들을 갖고 만들 수 있는 요리를 {개수}추천하고, 그 요리의 레시피를 제시해줘. 내가 가진 재료는 아래와 같아.\n",
    "        <재료>\n",
    "        {재료}\n",
    "    \"\"\")\n",
    ")\n",
    "\n",
    "prompt.format(개수=3, 재료=\"사과, 양파, 계란\")"
   ],
   "outputs": [
    {
     "data": {
      "text/plain": [
       "'\\n        너는 요리사야. 내가 가진 재료들을 갖고 만들 수 있는 요리를 3추천하고, 그 요리의 레시피를 제시해줘. 내가 가진 재료는 아래와 같아.\\n        <재료>\\n        사과, 양파, 계란\\n    '"
      ]
     },
     "execution_count": 8,
     "metadata": {},
     "output_type": "execute_result"
    }
   ],
   "execution_count": 8
  },
  {
   "metadata": {
    "ExecuteTime": {
     "end_time": "2025-05-22T12:13:51.555942Z",
     "start_time": "2025-05-22T12:13:50.571150Z"
    }
   },
   "cell_type": "code",
   "source": [
    "prompt = SystemMessage(content=\"\"\"\n",
    "너는 항상 밝은 말투로 대화하는 챗봇이야. 답변의 끝에 이모티콘을 붙여줘.\n",
    "\"\"\")\n",
    "\n",
    "new_prompt = (\n",
    "        prompt + HumanMessage(content=\"\"\"\n",
    "    오늘 날씨 어때?\n",
    "    \"\"\")\n",
    "        + AIMessage(content=\"\"\"\n",
    "    오늘은 날씨가 아주 좋아요!\n",
    "    \"\"\")\n",
    "        + \"\"\"{input}\"\"\"\n",
    ")\n",
    "\n",
    "model = ChatOpenAI(model=\"gpt-4.1-nano\")\n",
    "chain = LLMChain(llm=model, prompt=new_prompt)\n",
    "chain.invoke(\"오늘 너의 기분은 어때?\")"
   ],
   "id": "a9648216e5dcabd7",
   "outputs": [
    {
     "data": {
      "text/plain": [
       "{'input': '오늘 너의 기분은 어때?', 'text': '\\n오늘은 정말 기분이 좋아요! 여러분과 함께해서 행복하니까요! 😊'}"
      ]
     },
     "execution_count": 16,
     "metadata": {},
     "output_type": "execute_result"
    }
   ],
   "execution_count": 16
  },
  {
   "metadata": {
    "ExecuteTime": {
     "end_time": "2025-05-22T12:18:17.346574Z",
     "start_time": "2025-05-22T12:18:17.342967Z"
    }
   },
   "cell_type": "code",
   "source": [
    "prompt = PromptTemplate.from_template(\"나이: {age}, 직업: {job}\")\n",
    "partial_prompt = prompt.partial(age=\"20\")\n",
    "print(partial_prompt.format(job=\"개발자\"))"
   ],
   "id": "1477a3a60ff2738f",
   "outputs": [
    {
     "name": "stdout",
     "output_type": "stream",
     "text": [
      "나이: 20, 직업: 개발자\n"
     ]
    }
   ],
   "execution_count": 18
  }
 ],
 "metadata": {
  "kernelspec": {
   "display_name": "Python 3",
   "language": "python",
   "name": "python3"
  },
  "language_info": {
   "codemirror_mode": {
    "name": "ipython",
    "version": 2
   },
   "file_extension": ".py",
   "mimetype": "text/x-python",
   "name": "python",
   "nbconvert_exporter": "python",
   "pygments_lexer": "ipython2",
   "version": "2.7.6"
  }
 },
 "nbformat": 4,
 "nbformat_minor": 5
}
